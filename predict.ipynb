{
 "cells": [
  {
   "cell_type": "code",
   "execution_count": 20,
   "source": [
    "from transformers import GPT2LMHeadModel, PreTrainedTokenizerFast\n",
    "import torch\n",
    "\n",
    "# model = GPT2LMHeadModel.from_pretrained('eunjin/kogpt2-finetuned-wellness')\n",
    "model = GPT2LMHeadModel.from_pretrained('jack-oh/KoGPT2_finetuned_wellness')\n",
    "# model = GPT2LMHeadModel.from_pretrained('/home/jack/project/github/WellnessChatbot/finetuned_model')\n",
    "\n",
    "U_TKN = '<usr>'\n",
    "S_TKN = '<sys>'\n",
    "EOS = '</s>'\n",
    "MASK = '<unused0>'\n",
    "PAD = '<pad>'\n",
    "SENT = '<unused1>'\n",
    "\n",
    "tokenizer = PreTrainedTokenizerFast.from_pretrained(\"skt/kogpt2-base-v2\",\n",
    "            eos_token=EOS, unk_token='<unk>',\n",
    "            pad_token=PAD, mask_token=MASK) \n",
    "\n",
    "\n",
    "# max_length = 50, num_beams = 10, do_sample = False, top_k = 50, no_repeat_ngram_size = 2, temperature = 0.85\n",
    "def chat(utterance,maxlen=50,numbeams=10,sampling=True,topk=50,ngramsize=2,temp=0.85):\n",
    "    print(f'나: {utterance}\\n')\n",
    "    \n",
    "    with torch.no_grad():\n",
    "            qs=[]\n",
    "            q = utterance\n",
    "            qs.append(q) # history 저장\n",
    "\n",
    "            a=''\n",
    "            user = U_TKN + q + SENT + a\n",
    "            encoded = tokenizer.encode(user)\n",
    "            input_ids = torch.LongTensor(encoded).unsqueeze(dim=0)\n",
    "            output = model.generate(input_ids,max_length=maxlen,\n",
    "                                         num_beams=numbeams, do_sample=sampling, \n",
    "                                         top_k=topk, no_repeat_ngram_size=ngramsize,\n",
    "                                        temperature=temp)\n",
    "            a=tokenizer.decode(output[0])\n",
    "            idx = torch.where(output[0]==tokenizer.encode('<sys>')[0])\n",
    "            chatbot = tokenizer.decode(output[0][int(idx[0])+1:], skip_special_tokens=True)\n",
    " \n",
    "            if '답변' in a: # 응, 아니 등이 input으로 들어왔을 때\n",
    "                a_new = ''\n",
    "                user = U_TKN + ''.join(qs[-2:]) + SENT + a_new # 직전 history 가지고 와서 sentiment 고려해주기\n",
    "                encoded = tokenizer.encode(user)\n",
    "                input_ids = torch.LongTensor(encoded).unsqueeze(dim=0)\n",
    "                output = model.generate(input_ids,max_length=maxlen,\n",
    "                                         num_beams=numbeams, do_sample=sampling, \n",
    "                                         top_k=topk, no_repeat_ngram_size=ngramsize,\n",
    "                                        temperature=temp)\n",
    "                a_new = tokenizer.decode(output[0], skip_special_tokens=True)\n",
    "                idx = torch.where(output[0]==tokenizer.encode('<sys>')[0])\n",
    "                chatbot = tokenizer.decode(output[0][int(idx[0])+1:], skip_special_tokens=True)\n",
    "                \n",
    "                result = chatbot.strip()\n",
    "            \n",
    "            else: \n",
    "                result = chatbot.strip()\n",
    "                \n",
    "    print(f\"챗봇: {result}\\n\")\n",
    "    print('='*100)\n",
    "\n",
    "    return result\n",
    "\n"
   ],
   "outputs": [],
   "metadata": {}
  },
  {
   "cell_type": "code",
   "execution_count": 9,
   "source": [
    "# 'jack-oh/KoGPT2_finetuned_wellness'\n",
    "while 1:\n",
    "    sent = input()\n",
    "    chat(sent)"
   ],
   "outputs": [
    {
     "output_type": "stream",
     "name": "stdout",
     "text": [
      "나: 고민이 많다\n",
      "\n",
      "챗봇: 마음이 예민해져서 매우 괴로우셨겠어요. 저랑 차분하게 잠시 대화를 해봐요.\n",
      "\n",
      "====================================================================================================\n",
      "나: 공부하는게 힘들어\n",
      "\n",
      "챗봇: 공부하면 더 많은 선택을 할 수 있죠.\n",
      "\n",
      "====================================================================================================\n",
      "나: 그치만 너무 힘든걸\n",
      "\n",
      "챗봇: 조금만 더 버텨보세요.\n",
      "\n",
      "====================================================================================================\n",
      "나: 싫어 너무 무기력해\n",
      "\n",
      "챗봇: 무기력함 때문에 힘든 시기를 보내고 계시는군요. 저도 마음이 안 좋아요.\n",
      "\n",
      "====================================================================================================\n",
      "나: 응 아무것도 하기 싫어\n",
      "\n",
      "챗봇: 00님이 힘든 것 같아 걱정이에요. 더 얘기해볼까요?\n",
      "\n",
      "====================================================================================================\n",
      "나: 성적이 자꾸 떨어져\n",
      "\n",
      "챗봇: 공부한 만큼 나올 거예요.\n",
      "\n",
      "====================================================================================================\n",
      "나: 친구들이랑도 잘 안맞는것같아\n",
      "\n",
      "챗봇: 잘하는 건 칭찬해주고 본받을 점은 본받으면서 그대로 사랑해주세요.\n",
      "\n",
      "====================================================================================================\n",
      "나: 요새 육아하느라 지쳐서 너무 우울해\n",
      "\n",
      "챗봇: 00님이 울적하시다니 저도 마음이 안 좋아요.\n",
      "\n",
      "====================================================================================================\n",
      "나: 남편이 집안일을 안도와주는데 어떻게 해야돼?\n",
      "\n",
      "챗봇: 잘 분담해보세요.\n",
      "\n",
      "====================================================================================================\n",
      "나: 회사 출근하기 너무 싫다\n",
      "\n",
      "챗봇: 회사에는 동료가 있을 뿐이에요.\n",
      "\n",
      "====================================================================================================\n",
      "나: 일이 손에 잘 안잡혀\n",
      "\n",
      "챗봇: 힘들겠지만 하나씩 해보세요.\n",
      "\n",
      "====================================================================================================\n"
     ]
    },
    {
     "output_type": "error",
     "ename": "KeyboardInterrupt",
     "evalue": "Interrupted by user",
     "traceback": [
      "\u001b[0;31m---------------------------------------------------------------------------\u001b[0m",
      "\u001b[0;31mKeyboardInterrupt\u001b[0m                         Traceback (most recent call last)",
      "\u001b[0;32m<ipython-input-9-4c721afde132>\u001b[0m in \u001b[0;36m<module>\u001b[0;34m\u001b[0m\n\u001b[1;32m      1\u001b[0m \u001b[0;31m# 'jack-oh/KoGPT2_finetuned_wellness'\u001b[0m\u001b[0;34m\u001b[0m\u001b[0;34m\u001b[0m\u001b[0;34m\u001b[0m\u001b[0m\n\u001b[1;32m      2\u001b[0m \u001b[0;32mwhile\u001b[0m \u001b[0;36m1\u001b[0m\u001b[0;34m:\u001b[0m\u001b[0;34m\u001b[0m\u001b[0;34m\u001b[0m\u001b[0m\n\u001b[0;32m----> 3\u001b[0;31m     \u001b[0msent\u001b[0m \u001b[0;34m=\u001b[0m \u001b[0minput\u001b[0m\u001b[0;34m(\u001b[0m\u001b[0;34m)\u001b[0m\u001b[0;34m\u001b[0m\u001b[0;34m\u001b[0m\u001b[0m\n\u001b[0m\u001b[1;32m      4\u001b[0m     \u001b[0mchat\u001b[0m\u001b[0;34m(\u001b[0m\u001b[0msent\u001b[0m\u001b[0;34m)\u001b[0m\u001b[0;34m\u001b[0m\u001b[0;34m\u001b[0m\u001b[0m\n",
      "\u001b[0;32m~/.local/lib/python3.6/site-packages/ipykernel/kernelbase.py\u001b[0m in \u001b[0;36mraw_input\u001b[0;34m(self, prompt)\u001b[0m\n\u001b[1;32m    849\u001b[0m             \u001b[0mself\u001b[0m\u001b[0;34m.\u001b[0m\u001b[0m_parent_ident\u001b[0m\u001b[0;34m,\u001b[0m\u001b[0;34m\u001b[0m\u001b[0;34m\u001b[0m\u001b[0m\n\u001b[1;32m    850\u001b[0m             \u001b[0mself\u001b[0m\u001b[0;34m.\u001b[0m\u001b[0m_parent_header\u001b[0m\u001b[0;34m,\u001b[0m\u001b[0;34m\u001b[0m\u001b[0;34m\u001b[0m\u001b[0m\n\u001b[0;32m--> 851\u001b[0;31m             \u001b[0mpassword\u001b[0m\u001b[0;34m=\u001b[0m\u001b[0;32mFalse\u001b[0m\u001b[0;34m,\u001b[0m\u001b[0;34m\u001b[0m\u001b[0;34m\u001b[0m\u001b[0m\n\u001b[0m\u001b[1;32m    852\u001b[0m         )\n\u001b[1;32m    853\u001b[0m \u001b[0;34m\u001b[0m\u001b[0m\n",
      "\u001b[0;32m~/.local/lib/python3.6/site-packages/ipykernel/kernelbase.py\u001b[0m in \u001b[0;36m_input_request\u001b[0;34m(self, prompt, ident, parent, password)\u001b[0m\n\u001b[1;32m    890\u001b[0m             \u001b[0;32mexcept\u001b[0m \u001b[0mKeyboardInterrupt\u001b[0m\u001b[0;34m:\u001b[0m\u001b[0;34m\u001b[0m\u001b[0;34m\u001b[0m\u001b[0m\n\u001b[1;32m    891\u001b[0m                 \u001b[0;31m# re-raise KeyboardInterrupt, to truncate traceback\u001b[0m\u001b[0;34m\u001b[0m\u001b[0;34m\u001b[0m\u001b[0;34m\u001b[0m\u001b[0m\n\u001b[0;32m--> 892\u001b[0;31m                 \u001b[0;32mraise\u001b[0m \u001b[0mKeyboardInterrupt\u001b[0m\u001b[0;34m(\u001b[0m\u001b[0;34m\"Interrupted by user\"\u001b[0m\u001b[0;34m)\u001b[0m \u001b[0;32mfrom\u001b[0m \u001b[0;32mNone\u001b[0m\u001b[0;34m\u001b[0m\u001b[0;34m\u001b[0m\u001b[0m\n\u001b[0m\u001b[1;32m    893\u001b[0m             \u001b[0;32mexcept\u001b[0m \u001b[0mException\u001b[0m \u001b[0;32mas\u001b[0m \u001b[0me\u001b[0m\u001b[0;34m:\u001b[0m\u001b[0;34m\u001b[0m\u001b[0;34m\u001b[0m\u001b[0m\n\u001b[1;32m    894\u001b[0m                 \u001b[0mself\u001b[0m\u001b[0;34m.\u001b[0m\u001b[0mlog\u001b[0m\u001b[0;34m.\u001b[0m\u001b[0mwarning\u001b[0m\u001b[0;34m(\u001b[0m\u001b[0;34m\"Invalid Message:\"\u001b[0m\u001b[0;34m,\u001b[0m \u001b[0mexc_info\u001b[0m\u001b[0;34m=\u001b[0m\u001b[0;32mTrue\u001b[0m\u001b[0;34m)\u001b[0m\u001b[0;34m\u001b[0m\u001b[0;34m\u001b[0m\u001b[0m\n",
      "\u001b[0;31mKeyboardInterrupt\u001b[0m: Interrupted by user"
     ]
    }
   ],
   "metadata": {}
  },
  {
   "cell_type": "code",
   "execution_count": 24,
   "source": [
    "chat('친구들이 자꾸 차갑게 말 하니까 대화하기 싫어서 피하게 되더라')"
   ],
   "outputs": [
    {
     "output_type": "stream",
     "name": "stdout",
     "text": [
      "나: 친구들이 자꾸 차갑게 말 하니까 대화하기 싫어서 피하게 되더라\n",
      "\n",
      "챗봇: 내 인생은 실패작이라고 자존감이 싶어요.\n",
      "\n",
      "====================================================================================================\n"
     ]
    },
    {
     "output_type": "execute_result",
     "data": {
      "text/plain": [
       "'내 인생은 실패작이라고 자존감이 싶어요.'"
      ]
     },
     "metadata": {},
     "execution_count": 24
    }
   ],
   "metadata": {}
  },
  {
   "cell_type": "code",
   "execution_count": null,
   "source": [],
   "outputs": [],
   "metadata": {}
  }
 ],
 "metadata": {
  "interpreter": {
   "hash": "5a622102cdfea1cc5a658010ed2c7d553af4dd74c2c7ca94776b27965894da87"
  },
  "kernelspec": {
   "name": "python3",
   "display_name": "Python 3.6.12 64-bit ('nexr': conda)"
  },
  "language_info": {
   "codemirror_mode": {
    "name": "ipython",
    "version": 3
   },
   "file_extension": ".py",
   "mimetype": "text/x-python",
   "name": "python",
   "nbconvert_exporter": "python",
   "pygments_lexer": "ipython3",
   "version": "3.6.12"
  },
  "orig_nbformat": 4
 },
 "nbformat": 4,
 "nbformat_minor": 2
}