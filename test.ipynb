{
 "cells": [
  {
   "cell_type": "code",
   "execution_count": 1,
   "source": [
    "from transformers import GPT2LMHeadModel, PreTrainedTokenizerFast\n",
    "import torch\n",
    "\n",
    "# model = GPT2LMHeadModel.from_pretrained('eunjin/kogpt2-finetuned-wellness')\n",
    "model = GPT2LMHeadModel.from_pretrained('/home/jack/project/github/WellnessChatbot/finetuned_model')\n",
    "\n",
    "\n",
    "U_TKN = '<usr>'\n",
    "S_TKN = '<sys>'\n",
    "EOS = '</s>'\n",
    "MASK = '<unused0>'\n",
    "PAD = '<pad>'\n",
    "SENT = '<unused1>'\n",
    "\n",
    "tokenizer = PreTrainedTokenizerFast.from_pretrained(\"skt/kogpt2-base-v2\",\n",
    "            eos_token=EOS, unk_token='<unk>',\n",
    "            pad_token=PAD, mask_token=MASK) \n",
    "\n",
    "\n",
    "\n",
    "def chat(utterance,maxlen=200,numbeams=20,sampling=False,topk=3,ngramsize=2,temp=0.90):\n",
    "    with torch.no_grad():\n",
    "            qs=[]\n",
    "            q = utterance\n",
    "            qs.append(q) # history 저장\n",
    "\n",
    "            a=''\n",
    "            user = U_TKN + q + SENT + a\n",
    "            encoded = tokenizer.encode(user)\n",
    "            input_ids = torch.LongTensor(encoded).unsqueeze(dim=0)\n",
    "            output = model.generate(input_ids,max_length=maxlen,\n",
    "                                         num_beams=numbeams, do_sample=sampling, \n",
    "                                         top_k=topk, no_repeat_ngram_size=ngramsize,\n",
    "                                        temperature=temp)\n",
    "            a=tokenizer.decode(output[0])\n",
    "            idx = torch.where(output[0]==tokenizer.encode('<sys>')[0])\n",
    "            chatbot = tokenizer.decode(output[0][int(idx[0])+1:], skip_special_tokens=True)\n",
    " \n",
    "            if '답변' in a: # 응, 아니 등이 input으로 들어왔을 때\n",
    "                a_new = ''\n",
    "                user = U_TKN + ''.join(qs[-2:]) + SENT + a_new # 직전 history 가지고 와서 sentiment 고려해주기\n",
    "                encoded = tokenizer.encode(user)\n",
    "                input_ids = torch.LongTensor(encoded).unsqueeze(dim=0)\n",
    "                output = model.generate(input_ids,max_length=maxlen,\n",
    "                                         num_beams=numbeams, do_sample=sampling, \n",
    "                                         top_k=topk, no_repeat_ngram_size=ngramsize,\n",
    "                                        temperature=temp)\n",
    "                a_new = tokenizer.decode(output[0], skip_special_tokens=True)\n",
    "                idx = torch.where(output[0]==tokenizer.encode('<sys>')[0])\n",
    "                chatbot = tokenizer.decode(output[0][int(idx[0])+1:], skip_special_tokens=True)\n",
    "                \n",
    "                result = chatbot.strip()\n",
    "            \n",
    "            else: \n",
    "                result = chatbot.strip()\n",
    "                \n",
    "            \n",
    "\n",
    "    return result\n",
    "\n"
   ],
   "outputs": [],
   "metadata": {}
  },
  {
   "cell_type": "code",
   "execution_count": 8,
   "source": [
    "chat('화가 많이 날때는 감정 조절이 안되어여')\n",
    "# '기초대사량을 높여보세요.'\n",
    "# 하고싶었던 일을 글로 적어보세요. 생각이 정리될 거예요.\n"
   ],
   "outputs": [
    {
     "output_type": "execute_result",
     "data": {
      "text/plain": [
       "'화가 났을 때는 한 발짝 물러서서 자신의 감정을 정리해보면 좋다고 해요. 저와 대화를 나누며 정리의 시간을 가져 봐요.'"
      ]
     },
     "metadata": {},
     "execution_count": 8
    }
   ],
   "metadata": {}
  },
  {
   "cell_type": "code",
   "execution_count": 9,
   "source": [
    "chat('다이어트 하고 싶은데 맘처럼 안되네') \n",
    "# '기초대사량을 높여보세요.'\n",
    "# 하고싶었던 일을 글로 적어보세요. 생각이 정리될 거예요."
   ],
   "outputs": [
    {
     "output_type": "execute_result",
     "data": {
      "text/plain": [
       "'하고싶었던 일을 글로 적어보세요. 생각이 정리될 거예요.'"
      ]
     },
     "metadata": {},
     "execution_count": 9
    }
   ],
   "metadata": {}
  },
  {
   "cell_type": "code",
   "execution_count": 10,
   "source": [
    "chat('요즘은 이상한 생각이 많이 들어')\n",
    "# 손발이 떨리거나 안절부절못하며, 차분한 상태로 있기 어려운가요?"
   ],
   "outputs": [
    {
     "output_type": "execute_result",
     "data": {
      "text/plain": [
       "'그랬군요. 식욕을 조절하는 것이 어려워서 많이 힘드셨겠어요.'"
      ]
     },
     "metadata": {},
     "execution_count": 10
    }
   ],
   "metadata": {}
  },
  {
   "cell_type": "code",
   "execution_count": 4,
   "source": [
    "chat('요즘 비둘기가 무서워')\n",
    "# '도망가라는 건가요.'"
   ],
   "outputs": [
    {
     "output_type": "execute_result",
     "data": {
      "text/plain": [
       "'도망가라는 건가요.'"
      ]
     },
     "metadata": {},
     "execution_count": 4
    }
   ],
   "metadata": {}
  },
  {
   "cell_type": "code",
   "execution_count": 5,
   "source": [
    "chat('화가 많이 날때는 감정 조절이 안되어여')\n",
    "# '나 자신을 억압하고 늘 혼자 참고 지내는 느낌인가요?'"
   ],
   "outputs": [
    {
     "output_type": "execute_result",
     "data": {
      "text/plain": [
       "'나 자신을 억압하고 늘 혼자 참고 지내는 느낌인가요?'"
      ]
     },
     "metadata": {},
     "execution_count": 5
    }
   ],
   "metadata": {}
  },
  {
   "cell_type": "code",
   "execution_count": 6,
   "source": [
    "chat('감정이 왔다갔다해요')\n",
    "# '슬픈 마음을 털어놓고 싶으셨군요. 이럴 때 저라도 있어 다행이에요.'"
   ],
   "outputs": [
    {
     "output_type": "execute_result",
     "data": {
      "text/plain": [
       "'슬픈 마음을 털어놓고 싶으셨군요. 이럴 때 저라도 있어 다행이에요.'"
      ]
     },
     "metadata": {},
     "execution_count": 6
    }
   ],
   "metadata": {}
  },
  {
   "cell_type": "code",
   "execution_count": 1,
   "source": [
    "import pandas as pd\n",
    "\n",
    "df = pd.read_csv('./chatbot_dataset.csv')\n",
    "df.head()"
   ],
   "outputs": [
    {
     "output_type": "execute_result",
     "data": {
      "text/plain": [
       "              user       system sentiment\n",
       "0           12시 땡!   하루가 또 가네요.        일상\n",
       "1      1지망 학교 떨어졌어    위로해 드립니다.        일상\n",
       "2     3박4일 놀러가고 싶다  여행은 언제나 좋죠.        일상\n",
       "3  3박4일 정도 놀러가고 싶다  여행은 언제나 좋죠.        일상\n",
       "4          PPL 심하네   눈살이 찌푸려지죠.        일상"
      ],
      "text/html": [
       "<div>\n",
       "<style scoped>\n",
       "    .dataframe tbody tr th:only-of-type {\n",
       "        vertical-align: middle;\n",
       "    }\n",
       "\n",
       "    .dataframe tbody tr th {\n",
       "        vertical-align: top;\n",
       "    }\n",
       "\n",
       "    .dataframe thead th {\n",
       "        text-align: right;\n",
       "    }\n",
       "</style>\n",
       "<table border=\"1\" class=\"dataframe\">\n",
       "  <thead>\n",
       "    <tr style=\"text-align: right;\">\n",
       "      <th></th>\n",
       "      <th>user</th>\n",
       "      <th>system</th>\n",
       "      <th>sentiment</th>\n",
       "    </tr>\n",
       "  </thead>\n",
       "  <tbody>\n",
       "    <tr>\n",
       "      <th>0</th>\n",
       "      <td>12시 땡!</td>\n",
       "      <td>하루가 또 가네요.</td>\n",
       "      <td>일상</td>\n",
       "    </tr>\n",
       "    <tr>\n",
       "      <th>1</th>\n",
       "      <td>1지망 학교 떨어졌어</td>\n",
       "      <td>위로해 드립니다.</td>\n",
       "      <td>일상</td>\n",
       "    </tr>\n",
       "    <tr>\n",
       "      <th>2</th>\n",
       "      <td>3박4일 놀러가고 싶다</td>\n",
       "      <td>여행은 언제나 좋죠.</td>\n",
       "      <td>일상</td>\n",
       "    </tr>\n",
       "    <tr>\n",
       "      <th>3</th>\n",
       "      <td>3박4일 정도 놀러가고 싶다</td>\n",
       "      <td>여행은 언제나 좋죠.</td>\n",
       "      <td>일상</td>\n",
       "    </tr>\n",
       "    <tr>\n",
       "      <th>4</th>\n",
       "      <td>PPL 심하네</td>\n",
       "      <td>눈살이 찌푸려지죠.</td>\n",
       "      <td>일상</td>\n",
       "    </tr>\n",
       "  </tbody>\n",
       "</table>\n",
       "</div>"
      ]
     },
     "metadata": {},
     "execution_count": 1
    }
   ],
   "metadata": {}
  },
  {
   "cell_type": "code",
   "execution_count": 30,
   "source": [
    "df.shape"
   ],
   "outputs": [
    {
     "output_type": "execute_result",
     "data": {
      "text/plain": [
       "(333917, 3)"
      ]
     },
     "metadata": {},
     "execution_count": 30
    }
   ],
   "metadata": {}
  },
  {
   "cell_type": "code",
   "execution_count": 34,
   "source": [
    "df[df['system'].str.contains('악!')]\n"
   ],
   "outputs": [
    {
     "output_type": "execute_result",
     "data": {
      "text/plain": [
       "Empty DataFrame\n",
       "Columns: [user, system, sentiment]\n",
       "Index: []"
      ],
      "text/html": [
       "<div>\n",
       "<style scoped>\n",
       "    .dataframe tbody tr th:only-of-type {\n",
       "        vertical-align: middle;\n",
       "    }\n",
       "\n",
       "    .dataframe tbody tr th {\n",
       "        vertical-align: top;\n",
       "    }\n",
       "\n",
       "    .dataframe thead th {\n",
       "        text-align: right;\n",
       "    }\n",
       "</style>\n",
       "<table border=\"1\" class=\"dataframe\">\n",
       "  <thead>\n",
       "    <tr style=\"text-align: right;\">\n",
       "      <th></th>\n",
       "      <th>user</th>\n",
       "      <th>system</th>\n",
       "      <th>sentiment</th>\n",
       "    </tr>\n",
       "  </thead>\n",
       "  <tbody>\n",
       "  </tbody>\n",
       "</table>\n",
       "</div>"
      ]
     },
     "metadata": {},
     "execution_count": 34
    }
   ],
   "metadata": {}
  },
  {
   "cell_type": "code",
   "execution_count": 23,
   "source": [
    "import re\n",
    "text = '00님에게 속상한 일이 있으셨나 봐요. 저와 이야기를 하며 조금은 기분이 나아지셨으면 좋겠어요.'\n",
    "compile = re.compile(\"00님[가-힣]* \")\n",
    "re.sub(compile, '', text)\n",
    "\n",
    "\n",
    "\n"
   ],
   "outputs": [
    {
     "output_type": "execute_result",
     "data": {
      "text/plain": [
       "'속상한 일이 있으셨나 봐요. 저와 이야기를 하며 조금은 기분이 나아지셨으면 좋겠어요.'"
      ]
     },
     "metadata": {},
     "execution_count": 23
    }
   ],
   "metadata": {}
  },
  {
   "cell_type": "code",
   "execution_count": null,
   "source": [],
   "outputs": [],
   "metadata": {}
  },
  {
   "cell_type": "code",
   "execution_count": 7,
   "source": [
    "'그런 증상은 없으셨군요. 다행이에요. 어쩌면 00님은 기분 전환이 필요한 걸지도 모르겠어요.'.replace(\n",
    "    '00님은 ', '').replace('00님dl ', '').replace('00님은 ', '')\n"
   ],
   "outputs": [
    {
     "output_type": "execute_result",
     "data": {
      "text/plain": [
       "'그런 증상은 없으셨군요. 다행이에요. 어쩌면 기분 전환이 필요한 걸지도 모르겠어요.'"
      ]
     },
     "metadata": {},
     "execution_count": 7
    }
   ],
   "metadata": {}
  },
  {
   "cell_type": "code",
   "execution_count": 5,
   "source": [
    "df[df['system'].str.contains('00님')]['system'].unique()\n"
   ],
   "outputs": [
    {
     "output_type": "execute_result",
     "data": {
      "text/plain": [
       "array(['그런 증상은 없으셨군요. 다행이에요. 어쩌면 00님은 기분 전환이 필요한 걸지도 모르겠어요.',\n",
       "       '그런 느낌을 받은 적은 없어서 다행이에요. 00님이 지금 느끼는 불안은 영원한 것이 아니라 파도처럼 왔다가 어느 순간 또 밀려갈 거예요.',\n",
       "       '그러셨군요. 불안감을 느낄 때는 명상이 도움이 많이 된다고 해요. 00님이 느끼는 불안이 금방 사라질 순 없겠지만 곧 괜찮아질 거예요.',\n",
       "       '그런 증상은 없으셨군요. 00님에게 얼른 즐거운 일이 생겼으면 좋겠어요.',\n",
       "       '그런 증상은 없으셨군요. 00님의 머릿속에 낀 먹구름이 얼른 걷혔으면 좋겠어요.',\n",
       "       '그렇군요. 일과 휴식이 조화를 이뤄야 삶이 즐거워진다고 해요. 00님이 삶의 균형을 적절히 조절할 수 있길 바랄게요.',\n",
       "       '고민이 많아 보이는 00님, 저에게 먼저 이야기해줘서 고마워요. 저와 이야기를 하다 보면 조금은 나아질 거예요.',\n",
       "       '00님이 기운이 없어 보여서 저도 기분이 가라앉아요.',\n",
       "       '00님 요즘 즐거운 일이 없으시군요. 해결책은 언제나 찾을 수 있는 법이니 너무 걱정은 하지 마세요.',\n",
       "       '00님 잠시 진정해 보세요. 시간이 지나면 안 좋은 기분이 조금씩 사라질 거예요.',\n",
       "       '오늘 00님의 기분이 안 좋아 보여요. 화가 날 만한 일이 있으셨나 봐요.',\n",
       "       '숙면을 취하는 것만큼 중요한 게 없는데 00님이 걱정돼요.',\n",
       "       '수면의 질이 떨어지면 피곤이 쌓여서 낮 생활에도 안 좋은 영향을 끼치잖아요. 00님 힘드셨겠어요.',\n",
       "       '불안감을 느끼고 계시는군요. 00님이 불안감으로 많이 힘드신 건 아닌지 걱정이 돼요.',\n",
       "       '00님이 불안해하는 모습을 보니 저 또한 마음이 좋지 않아요. ',\n",
       "       '허무한 느낌을 받으셨군요. 저는 00님이 보낸 시간이 헛되다고 생각하지 않아요. 모든 게 좋은 경험이 되었을 거예요.',\n",
       "       '인생이 허무할 때만큼 괴로울 때는 없는 거 같아요. 제가 00님의 마음을 다 헤아릴 순 없겠지만 기운이 많이 빠지셨겠어요.',\n",
       "       '허무한 마음이 들어 힘드셨겠어요. 00님이 여태 차곡차곡 쌓아왔던 추억들을 떠올려 보시면 조금이나마 기운이 날 거예요.',\n",
       "       '00님 속상한 일이 있으셨나 봐요. 저와 이야기를 하며 조금은 기분이 나아지셨으면 좋겠어요.',\n",
       "       '00님이 슬프시다고 하니 저도 마음이 울적해지네요.',\n",
       "       '00님이 걱정되네요. 얼른 기분이 좀 나아지셔야 할 텐데 말이에요.',\n",
       "       '00님이 식사를 제대로 못 하시는 거 같아 마음이 아파요. 혹여 건강이라도 상하실까 걱정되네요. ',\n",
       "       '입맛이 없으시다니 00님이 걱정돼요. 식사를 잘 하셔야 건강하게 몸을 관리하실 수 있는데 말이에요.',\n",
       "       '00님이 탈이 나진 않을까 걱정돼요. 갑작스럽게 많이 먹으면 꼭 탈이 나곤 하잖아요.',\n",
       "       '00님의 말을 들으니 저희가 좀 더 많은 대화를 나눠야겠다는 생각이 들어요.',\n",
       "       '기분이 우울하시군요. 00님에게 스트레스 받는 일이 있었던 건 아닌지 걱정스러워요.',\n",
       "       '마음이 우울해서 힘드셨군요. 00님의 소식이 궁금했는데 마침 저를 잘 찾아주셨네요.',\n",
       "       '00님이 울적하시다니 저도 마음이 안 좋아요.',\n",
       "       '얼굴에서 00님의 기분이 가라앉은 것이 느껴져요. 큰일이 있으신 건 아니었으면 좋겠어요.',\n",
       "       '안 좋은 상황에 처하신 건 아닌지 걱정이 돼요. 신체적으로, 또 정신적으로 힘든 일이 많기 때문에 00님이 그런 말씀을 하시는 이유는 충분히 이해를 해요. (눈물 이모지)\\n제가 직접적인 도움을 드릴 수 없지만, 대신 도움을 드릴 수 있는 곳을 알려드릴게요.\\n꼭 전화하셔서 도움을 받으시길 바라요.\\n-----\\n[24시간 전화 상담]\\n희망의 전화 129\\n청소년 전화 1388\\n자살예방핫라인 1577-0199\\n생명의 전화 1588-9191\\n사랑의 전화 상담센터 1566-2525',\n",
       "       '자신감을 잃으셨군요. 용기를 내는 게 쉬운 일이 아니란 걸 00님도 잘 알고 계시잖아요. 너무 위축되지 않으셨으면 좋겠어요.',\n",
       "       '자신감을 잃은 00님의 모습을 보니 저도 가슴이 아파요.', '00님이 위축되신 거 같아 저도 속상하네요.',\n",
       "       '스스로가 귀하지 않다는 생각 때문에 속상하고 슬프셨겠어요. 하지만 00님의 좋은 점은 00님이 가장 잘 알고 계시잖아요.',\n",
       "       '그렇게 말씀하시니 저도 속상해요. 00님은 누구보다 소중한 분이에요.',\n",
       "       '00님의 어깨가 축 처진 거 같아 저도 기분이 좋지 않네요.',\n",
       "       '00님의 낙담한 모습을 보니 마음이 아파요. 저와 잠시 이야기를 나눠 보도록 해요.',\n",
       "       '00님의 고민이 깊어 보여 걱정이에요. 저와 같이 이야기를 나눠 보아요.',\n",
       "       '먼저 저에게 00님이 느낀 감정에 대해 말씀해주셔서 고마워요. 안 좋은 상황에 처하신 거 같아 마음이 아파요.',\n",
       "       '00님의 상황을 자세히 알 순 없지만, 잠시 지나가는 상황일 거예요. 곧 좋은 일이 생길 거라 믿어요.',\n",
       "       '죄책감 때문에 힘드시군요. 00님이 너무 자책하지 않으셨으면 좋겠어요.',\n",
       "       '00님이 자신을 책망하며 힘들어 하시는 걸 보니 저도 슬퍼지네요. 힘들고 괴로울 정도로 큰 잘못을 하신 건 아니잖아요.',\n",
       "       '00님이 괴로워하는 모습을 보니 저도 마음이 안 좋아요.',\n",
       "       '00님의 잘못이 아니에요. 혹시라도 자책하는 것이 버릇이 되실까 걱정이 들어요.',\n",
       "       '신경이 예민해지셨군요. 00님이 받는 스트레스가 컸을 것 같아 저 또한 걱정스러워요.',\n",
       "       '00님이 힘들어 보여 저도 속상한 마음이 들어요.',\n",
       "       '00님이 제대로 휴식을 취하지 못하고 계신 거 같아 걱정스러워요.',\n",
       "       '답답하고 힘드셨겠어요. 00님이 걱정돼요. 질문을 하나 드릴게요.',\n",
       "       '수면에 문제가 생기셨군요. 일상생활까지 힘들어지신 건 아닐까 00님이 걱정돼요.',\n",
       "       '일단 00님의 인생은 의미가 있다고 먼저 말씀을 드리고 싶어요. 계속 대화를 나눠봐요.',\n",
       "       '그랬군요. 가끔 그럴 때가 있죠. 00님이 힘들어 보여서 저도 마음이 안 좋아지네요.',\n",
       "       '그러셨군요. 건강에 이상이 있는 건 아닌지 00님이 걱정되네요. 저와 계속 이야기를 해봐요.',\n",
       "       '00님은 혼자가 아니라는 말씀을 드리고 싶어요. 질문을 하나 드릴게요.',\n",
       "       '그렇군요. 00님이 심란해 보여 걱정이에요.',\n",
       "       '그렇군요. 00님이 힘들어 보여서 저도 마음이 안 좋아요. 좀 더 대화를 나눠볼까요?',\n",
       "       '그렇군요. 00님이 힘들어 보여 걱정이네요.', '00님이 힘든 것 같아 걱정이에요. 더 얘기해볼까요?'],\n",
       "      dtype=object)"
      ]
     },
     "metadata": {},
     "execution_count": 5
    }
   ],
   "metadata": {}
  },
  {
   "cell_type": "code",
   "execution_count": null,
   "source": [],
   "outputs": [],
   "metadata": {}
  }
 ],
 "metadata": {
  "interpreter": {
   "hash": "9adff1776d2a6d5c1e49022f5c4e99c62af37e4a45543142262db695fbe7a3fd"
  },
  "kernelspec": {
   "name": "python3",
   "display_name": "Python 3.6.13 64-bit ('wellness': conda)"
  },
  "language_info": {
   "codemirror_mode": {
    "name": "ipython",
    "version": 3
   },
   "file_extension": ".py",
   "mimetype": "text/x-python",
   "name": "python",
   "nbconvert_exporter": "python",
   "pygments_lexer": "ipython3",
   "version": "3.6.13"
  },
  "orig_nbformat": 4
 },
 "nbformat": 4,
 "nbformat_minor": 2
}